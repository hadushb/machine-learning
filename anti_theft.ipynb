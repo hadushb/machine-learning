{
  "nbformat": 4,
  "nbformat_minor": 0,
  "metadata": {
    "colab": {
      "provenance": [],
      "mount_file_id": "1kXKMoz17XBf9rywkUD6hRD0Novnj9f-q",
      "authorship_tag": "ABX9TyO8Nis1AxtsCrE5daG3QbYZ",
      "include_colab_link": true
    },
    "kernelspec": {
      "name": "python3",
      "display_name": "Python 3"
    },
    "language_info": {
      "name": "python"
    }
  },
  "cells": [
    {
      "cell_type": "markdown",
      "metadata": {
        "id": "view-in-github",
        "colab_type": "text"
      },
      "source": [
        "<a href=\"https://colab.research.google.com/github/hadushb/machine-learning/blob/main/anti_theft.ipynb\" target=\"_parent\"><img src=\"https://colab.research.google.com/assets/colab-badge.svg\" alt=\"Open In Colab\"/></a>"
      ]
    },
    {
      "cell_type": "code",
      "source": [
        "!pip install face_recognition"
      ],
      "metadata": {
        "colab": {
          "base_uri": "https://localhost:8080/"
        },
        "collapsed": true,
        "id": "kudVvGacBvyo",
        "outputId": "1a3bad3c-2b8c-4d29-ca0d-1d809cf79cab"
      },
      "execution_count": null,
      "outputs": [
        {
          "output_type": "stream",
          "name": "stdout",
          "text": [
            "Collecting face_recognition\n",
            "  Downloading face_recognition-1.3.0-py2.py3-none-any.whl.metadata (21 kB)\n",
            "Collecting face-recognition-models>=0.3.0 (from face_recognition)\n",
            "  Downloading face_recognition_models-0.3.0.tar.gz (100.1 MB)\n",
            "\u001b[2K     \u001b[90m━━━━━━━━━━━━━━━━━━━━━━━━━━━━━━━━━━━━━━━\u001b[0m \u001b[32m100.1/100.1 MB\u001b[0m \u001b[31m7.8 MB/s\u001b[0m eta \u001b[36m0:00:00\u001b[0m\n",
            "\u001b[?25h  Preparing metadata (setup.py) ... \u001b[?25l\u001b[?25hdone\n",
            "Requirement already satisfied: Click>=6.0 in /usr/local/lib/python3.11/dist-packages (from face_recognition) (8.2.0)\n",
            "Requirement already satisfied: dlib>=19.7 in /usr/local/lib/python3.11/dist-packages (from face_recognition) (19.24.6)\n",
            "Requirement already satisfied: numpy in /usr/local/lib/python3.11/dist-packages (from face_recognition) (2.0.2)\n",
            "Requirement already satisfied: Pillow in /usr/local/lib/python3.11/dist-packages (from face_recognition) (11.2.1)\n",
            "Downloading face_recognition-1.3.0-py2.py3-none-any.whl (15 kB)\n",
            "Building wheels for collected packages: face-recognition-models\n",
            "  Building wheel for face-recognition-models (setup.py) ... \u001b[?25l\u001b[?25hdone\n",
            "  Created wheel for face-recognition-models: filename=face_recognition_models-0.3.0-py2.py3-none-any.whl size=100566166 sha256=4a98388707ba6cf1326a6c84fdf9c14b2b6de2942d969a4baceebdf5bd037345\n",
            "  Stored in directory: /root/.cache/pip/wheels/04/52/ec/9355da79c29f160b038a20c784db2803c2f9fa2c8a462c176a\n",
            "Successfully built face-recognition-models\n",
            "Installing collected packages: face-recognition-models, face_recognition\n",
            "Successfully installed face-recognition-models-0.3.0 face_recognition-1.3.0\n"
          ]
        }
      ]
    },
    {
      "cell_type": "code",
      "source": [
        "!pip install -U tensorflow"
      ],
      "metadata": {
        "colab": {
          "base_uri": "https://localhost:8080/"
        },
        "collapsed": true,
        "id": "XSPF6H8DB7Fc",
        "outputId": "eb2eec2b-4fef-4fa3-eda7-a5d581a10014"
      },
      "execution_count": null,
      "outputs": [
        {
          "output_type": "stream",
          "name": "stdout",
          "text": [
            "Requirement already satisfied: tensorflow in /usr/local/lib/python3.11/dist-packages (2.18.0)\n",
            "Collecting tensorflow\n",
            "  Downloading tensorflow-2.19.0-cp311-cp311-manylinux_2_17_x86_64.manylinux2014_x86_64.whl.metadata (4.1 kB)\n",
            "Requirement already satisfied: absl-py>=1.0.0 in /usr/local/lib/python3.11/dist-packages (from tensorflow) (1.4.0)\n",
            "Requirement already satisfied: astunparse>=1.6.0 in /usr/local/lib/python3.11/dist-packages (from tensorflow) (1.6.3)\n",
            "Requirement already satisfied: flatbuffers>=24.3.25 in /usr/local/lib/python3.11/dist-packages (from tensorflow) (25.2.10)\n",
            "Requirement already satisfied: gast!=0.5.0,!=0.5.1,!=0.5.2,>=0.2.1 in /usr/local/lib/python3.11/dist-packages (from tensorflow) (0.6.0)\n",
            "Requirement already satisfied: google-pasta>=0.1.1 in /usr/local/lib/python3.11/dist-packages (from tensorflow) (0.2.0)\n",
            "Requirement already satisfied: libclang>=13.0.0 in /usr/local/lib/python3.11/dist-packages (from tensorflow) (18.1.1)\n",
            "Requirement already satisfied: opt-einsum>=2.3.2 in /usr/local/lib/python3.11/dist-packages (from tensorflow) (3.4.0)\n",
            "Requirement already satisfied: packaging in /usr/local/lib/python3.11/dist-packages (from tensorflow) (24.2)\n",
            "Requirement already satisfied: protobuf!=4.21.0,!=4.21.1,!=4.21.2,!=4.21.3,!=4.21.4,!=4.21.5,<6.0.0dev,>=3.20.3 in /usr/local/lib/python3.11/dist-packages (from tensorflow) (5.29.4)\n",
            "Requirement already satisfied: requests<3,>=2.21.0 in /usr/local/lib/python3.11/dist-packages (from tensorflow) (2.32.3)\n",
            "Requirement already satisfied: setuptools in /usr/local/lib/python3.11/dist-packages (from tensorflow) (75.2.0)\n",
            "Requirement already satisfied: six>=1.12.0 in /usr/local/lib/python3.11/dist-packages (from tensorflow) (1.17.0)\n",
            "Requirement already satisfied: termcolor>=1.1.0 in /usr/local/lib/python3.11/dist-packages (from tensorflow) (3.1.0)\n",
            "Requirement already satisfied: typing-extensions>=3.6.6 in /usr/local/lib/python3.11/dist-packages (from tensorflow) (4.13.2)\n",
            "Requirement already satisfied: wrapt>=1.11.0 in /usr/local/lib/python3.11/dist-packages (from tensorflow) (1.17.2)\n",
            "Requirement already satisfied: grpcio<2.0,>=1.24.3 in /usr/local/lib/python3.11/dist-packages (from tensorflow) (1.71.0)\n",
            "Collecting tensorboard~=2.19.0 (from tensorflow)\n",
            "  Downloading tensorboard-2.19.0-py3-none-any.whl.metadata (1.8 kB)\n",
            "Requirement already satisfied: keras>=3.5.0 in /usr/local/lib/python3.11/dist-packages (from tensorflow) (3.8.0)\n",
            "Requirement already satisfied: numpy<2.2.0,>=1.26.0 in /usr/local/lib/python3.11/dist-packages (from tensorflow) (2.0.2)\n",
            "Requirement already satisfied: h5py>=3.11.0 in /usr/local/lib/python3.11/dist-packages (from tensorflow) (3.13.0)\n",
            "Collecting ml-dtypes<1.0.0,>=0.5.1 (from tensorflow)\n",
            "  Downloading ml_dtypes-0.5.1-cp311-cp311-manylinux_2_17_x86_64.manylinux2014_x86_64.whl.metadata (21 kB)\n",
            "Requirement already satisfied: tensorflow-io-gcs-filesystem>=0.23.1 in /usr/local/lib/python3.11/dist-packages (from tensorflow) (0.37.1)\n",
            "Requirement already satisfied: wheel<1.0,>=0.23.0 in /usr/local/lib/python3.11/dist-packages (from astunparse>=1.6.0->tensorflow) (0.45.1)\n",
            "Requirement already satisfied: rich in /usr/local/lib/python3.11/dist-packages (from keras>=3.5.0->tensorflow) (13.9.4)\n",
            "Requirement already satisfied: namex in /usr/local/lib/python3.11/dist-packages (from keras>=3.5.0->tensorflow) (0.0.9)\n",
            "Requirement already satisfied: optree in /usr/local/lib/python3.11/dist-packages (from keras>=3.5.0->tensorflow) (0.15.0)\n",
            "Requirement already satisfied: charset-normalizer<4,>=2 in /usr/local/lib/python3.11/dist-packages (from requests<3,>=2.21.0->tensorflow) (3.4.2)\n",
            "Requirement already satisfied: idna<4,>=2.5 in /usr/local/lib/python3.11/dist-packages (from requests<3,>=2.21.0->tensorflow) (3.10)\n",
            "Requirement already satisfied: urllib3<3,>=1.21.1 in /usr/local/lib/python3.11/dist-packages (from requests<3,>=2.21.0->tensorflow) (2.4.0)\n",
            "Requirement already satisfied: certifi>=2017.4.17 in /usr/local/lib/python3.11/dist-packages (from requests<3,>=2.21.0->tensorflow) (2025.4.26)\n",
            "Requirement already satisfied: markdown>=2.6.8 in /usr/local/lib/python3.11/dist-packages (from tensorboard~=2.19.0->tensorflow) (3.8)\n",
            "Requirement already satisfied: tensorboard-data-server<0.8.0,>=0.7.0 in /usr/local/lib/python3.11/dist-packages (from tensorboard~=2.19.0->tensorflow) (0.7.2)\n",
            "Requirement already satisfied: werkzeug>=1.0.1 in /usr/local/lib/python3.11/dist-packages (from tensorboard~=2.19.0->tensorflow) (3.1.3)\n",
            "Requirement already satisfied: MarkupSafe>=2.1.1 in /usr/local/lib/python3.11/dist-packages (from werkzeug>=1.0.1->tensorboard~=2.19.0->tensorflow) (3.0.2)\n",
            "Requirement already satisfied: markdown-it-py>=2.2.0 in /usr/local/lib/python3.11/dist-packages (from rich->keras>=3.5.0->tensorflow) (3.0.0)\n",
            "Requirement already satisfied: pygments<3.0.0,>=2.13.0 in /usr/local/lib/python3.11/dist-packages (from rich->keras>=3.5.0->tensorflow) (2.19.1)\n",
            "Requirement already satisfied: mdurl~=0.1 in /usr/local/lib/python3.11/dist-packages (from markdown-it-py>=2.2.0->rich->keras>=3.5.0->tensorflow) (0.1.2)\n",
            "Downloading tensorflow-2.19.0-cp311-cp311-manylinux_2_17_x86_64.manylinux2014_x86_64.whl (644.9 MB)\n",
            "\u001b[2K   \u001b[90m━━━━━━━━━━━━━━━━━━━━━━━━━━━━━━━━━━━━━━━━\u001b[0m \u001b[32m644.9/644.9 MB\u001b[0m \u001b[31m2.2 MB/s\u001b[0m eta \u001b[36m0:00:00\u001b[0m\n",
            "\u001b[?25hDownloading ml_dtypes-0.5.1-cp311-cp311-manylinux_2_17_x86_64.manylinux2014_x86_64.whl (4.7 MB)\n",
            "\u001b[2K   \u001b[90m━━━━━━━━━━━━━━━━━━━━━━━━━━━━━━━━━━━━━━━━\u001b[0m \u001b[32m4.7/4.7 MB\u001b[0m \u001b[31m35.7 MB/s\u001b[0m eta \u001b[36m0:00:00\u001b[0m\n",
            "\u001b[?25hDownloading tensorboard-2.19.0-py3-none-any.whl (5.5 MB)\n",
            "\u001b[2K   \u001b[90m━━━━━━━━━━━━━━━━━━━━━━━━━━━━━━━━━━━━━━━━\u001b[0m \u001b[32m5.5/5.5 MB\u001b[0m \u001b[31m32.6 MB/s\u001b[0m eta \u001b[36m0:00:00\u001b[0m\n",
            "\u001b[?25hInstalling collected packages: ml-dtypes, tensorboard, tensorflow\n",
            "  Attempting uninstall: ml-dtypes\n",
            "    Found existing installation: ml-dtypes 0.4.1\n",
            "    Uninstalling ml-dtypes-0.4.1:\n",
            "      Successfully uninstalled ml-dtypes-0.4.1\n",
            "  Attempting uninstall: tensorboard\n",
            "    Found existing installation: tensorboard 2.18.0\n",
            "    Uninstalling tensorboard-2.18.0:\n",
            "      Successfully uninstalled tensorboard-2.18.0\n",
            "  Attempting uninstall: tensorflow\n",
            "    Found existing installation: tensorflow 2.18.0\n",
            "    Uninstalling tensorflow-2.18.0:\n",
            "      Successfully uninstalled tensorflow-2.18.0\n",
            "\u001b[31mERROR: pip's dependency resolver does not currently take into account all the packages that are installed. This behaviour is the source of the following dependency conflicts.\n",
            "tensorflow-decision-forests 1.11.0 requires tensorflow==2.18.0, but you have tensorflow 2.19.0 which is incompatible.\n",
            "tf-keras 2.18.0 requires tensorflow<2.19,>=2.18, but you have tensorflow 2.19.0 which is incompatible.\n",
            "tensorflow-text 2.18.1 requires tensorflow<2.19,>=2.18.0, but you have tensorflow 2.19.0 which is incompatible.\u001b[0m\u001b[31m\n",
            "\u001b[0mSuccessfully installed ml-dtypes-0.5.1 tensorboard-2.19.0 tensorflow-2.19.0\n"
          ]
        }
      ]
    },
    {
      "cell_type": "code",
      "execution_count": null,
      "metadata": {
        "colab": {
          "base_uri": "https://localhost:8080/"
        },
        "id": "2HySnQhhBAYn",
        "outputId": "ccfcaefb-02f2-43b4-87e8-1829d0906930"
      },
      "outputs": [
        {
          "output_type": "stream",
          "name": "stdout",
          "text": [
            "Found 82 images belonging to 3 classes.\n"
          ]
        }
      ],
      "source": [
        "import tensorflow as tf\n",
        "from tensorflow.keras.preprocessing.image import ImageDataGenerator\n",
        "\n",
        "# Example: create an ImageDataGenerator with augmentations\n",
        "datagen = ImageDataGenerator(\n",
        "    rescale=1./255,\n",
        "    horizontal_flip=True,\n",
        "    width_shift_range=0.1,\n",
        "    height_shift_range=0.1,\n",
        "    brightness_range=[0.8,1.2]\n",
        ")\n",
        "\n",
        "# Create training data loader (folders: data/train/Person1, Person2, ...)\n",
        "train_gen = datagen.flow_from_directory(\n",
        "    '/content/drive/MyDrive/Colab Notebooks/dataset',\n",
        "    target_size=(112,112),\n",
        "    batch_size=16,\n",
        "    class_mode='categorical'\n",
        ")\n"
      ]
    },
    {
      "cell_type": "code",
      "source": [
        "from tensorflow.keras.applications import MobileNetV2\n",
        "from tensorflow.keras.layers import Dense, GlobalAveragePooling2D, Dropout\n",
        "from tensorflow.keras.models import Model\n",
        "\n",
        "# Base model: MobileNetV2 pretrained on ImageNet (lightweight)\n",
        "base = MobileNetV2(input_shape=(112,112,3), include_top=False, weights='imagenet')\n",
        "x = base.output\n",
        "x = GlobalAveragePooling2D()(x)\n",
        "x = Dropout(0.5)(x)\n",
        "# Output layer: 3 authorized identities\n",
        "pred = Dense(3, activation='softmax')(x)\n",
        "model = Model(inputs=base.input, outputs=pred)\n",
        "model.compile(optimizer='adam', loss='categorical_crossentropy', metrics=['accuracy'])\n"
      ],
      "metadata": {
        "colab": {
          "base_uri": "https://localhost:8080/"
        },
        "id": "9korZMGXCji1",
        "outputId": "ac5fe939-846d-41cc-8964-41de6e297ede"
      },
      "execution_count": null,
      "outputs": [
        {
          "output_type": "stream",
          "name": "stderr",
          "text": [
            "<ipython-input-4-7f1c2497da18>:6: UserWarning: `input_shape` is undefined or non-square, or `rows` is not in [96, 128, 160, 192, 224]. Weights for input shape (224, 224) will be loaded as the default.\n",
            "  base = MobileNetV2(input_shape=(112,112,3), include_top=False, weights='imagenet')\n"
          ]
        },
        {
          "output_type": "stream",
          "name": "stdout",
          "text": [
            "Downloading data from https://storage.googleapis.com/tensorflow/keras-applications/mobilenet_v2/mobilenet_v2_weights_tf_dim_ordering_tf_kernels_1.0_224_no_top.h5\n",
            "\u001b[1m9406464/9406464\u001b[0m \u001b[32m━━━━━━━━━━━━━━━━━━━━\u001b[0m\u001b[37m\u001b[0m \u001b[1m0s\u001b[0m 0us/step\n"
          ]
        }
      ]
    },
    {
      "source": [
        "# Train the model\n",
        "history = model.fit(\n",
        "    train_gen,\n",
        "    epochs=20,\n",
        "    steps_per_epoch=len(train_gen)\n",
        "    # validation_data=val_gen  # Removed as val_gen is not defined\n",
        ")"
      ],
      "cell_type": "code",
      "metadata": {
        "colab": {
          "base_uri": "https://localhost:8080/"
        },
        "id": "vmERf9mODpiT",
        "outputId": "d4b0ddb0-bd79-4ba2-9dd9-c6d4ad7082de"
      },
      "execution_count": null,
      "outputs": [
        {
          "output_type": "stream",
          "name": "stderr",
          "text": [
            "/usr/local/lib/python3.11/dist-packages/keras/src/trainers/data_adapters/py_dataset_adapter.py:121: UserWarning: Your `PyDataset` class should call `super().__init__(**kwargs)` in its constructor. `**kwargs` can include `workers`, `use_multiprocessing`, `max_queue_size`. Do not pass these arguments to `fit()`, as they will be ignored.\n",
            "  self._warn_if_super_not_called()\n"
          ]
        },
        {
          "output_type": "stream",
          "name": "stdout",
          "text": [
            "Epoch 1/20\n",
            "\u001b[1m6/6\u001b[0m \u001b[32m━━━━━━━━━━━━━━━━━━━━\u001b[0m\u001b[37m\u001b[0m \u001b[1m76s\u001b[0m 5s/step - accuracy: 0.5976 - loss: 1.0236\n",
            "Epoch 2/20\n",
            "\u001b[1m6/6\u001b[0m \u001b[32m━━━━━━━━━━━━━━━━━━━━\u001b[0m\u001b[37m\u001b[0m \u001b[1m23s\u001b[0m 3s/step - accuracy: 0.9391 - loss: 0.2458\n",
            "Epoch 3/20\n",
            "\u001b[1m6/6\u001b[0m \u001b[32m━━━━━━━━━━━━━━━━━━━━\u001b[0m\u001b[37m\u001b[0m \u001b[1m15s\u001b[0m 2s/step - accuracy: 0.9547 - loss: 0.2274\n",
            "Epoch 4/20\n",
            "\u001b[1m6/6\u001b[0m \u001b[32m━━━━━━━━━━━━━━━━━━━━\u001b[0m\u001b[37m\u001b[0m \u001b[1m21s\u001b[0m 2s/step - accuracy: 0.8819 - loss: 0.3880\n",
            "Epoch 5/20\n",
            "\u001b[1m6/6\u001b[0m \u001b[32m━━━━━━━━━━━━━━━━━━━━\u001b[0m\u001b[37m\u001b[0m \u001b[1m21s\u001b[0m 2s/step - accuracy: 0.9402 - loss: 0.2151\n",
            "Epoch 6/20\n",
            "\u001b[1m6/6\u001b[0m \u001b[32m━━━━━━━━━━━━━━━━━━━━\u001b[0m\u001b[37m\u001b[0m \u001b[1m15s\u001b[0m 3s/step - accuracy: 0.8921 - loss: 0.4045\n",
            "Epoch 7/20\n",
            "\u001b[1m6/6\u001b[0m \u001b[32m━━━━━━━━━━━━━━━━━━━━\u001b[0m\u001b[37m\u001b[0m \u001b[1m21s\u001b[0m 2s/step - accuracy: 0.9054 - loss: 0.1995\n",
            "Epoch 8/20\n",
            "\u001b[1m6/6\u001b[0m \u001b[32m━━━━━━━━━━━━━━━━━━━━\u001b[0m\u001b[37m\u001b[0m \u001b[1m21s\u001b[0m 3s/step - accuracy: 0.9477 - loss: 0.1362\n",
            "Epoch 9/20\n",
            "\u001b[1m6/6\u001b[0m \u001b[32m━━━━━━━━━━━━━━━━━━━━\u001b[0m\u001b[37m\u001b[0m \u001b[1m20s\u001b[0m 2s/step - accuracy: 0.9422 - loss: 0.1300\n",
            "Epoch 10/20\n",
            "\u001b[1m6/6\u001b[0m \u001b[32m━━━━━━━━━━━━━━━━━━━━\u001b[0m\u001b[37m\u001b[0m \u001b[1m20s\u001b[0m 2s/step - accuracy: 0.9315 - loss: 0.1789\n",
            "Epoch 11/20\n",
            "\u001b[1m6/6\u001b[0m \u001b[32m━━━━━━━━━━━━━━━━━━━━\u001b[0m\u001b[37m\u001b[0m \u001b[1m20s\u001b[0m 2s/step - accuracy: 0.9965 - loss: 0.0285\n",
            "Epoch 12/20\n",
            "\u001b[1m6/6\u001b[0m \u001b[32m━━━━━━━━━━━━━━━━━━━━\u001b[0m\u001b[37m\u001b[0m \u001b[1m22s\u001b[0m 2s/step - accuracy: 0.9656 - loss: 0.2601\n",
            "Epoch 13/20\n",
            "\u001b[1m6/6\u001b[0m \u001b[32m━━━━━━━━━━━━━━━━━━━━\u001b[0m\u001b[37m\u001b[0m \u001b[1m20s\u001b[0m 2s/step - accuracy: 0.9887 - loss: 0.0407\n",
            "Epoch 14/20\n",
            "\u001b[1m6/6\u001b[0m \u001b[32m━━━━━━━━━━━━━━━━━━━━\u001b[0m\u001b[37m\u001b[0m \u001b[1m16s\u001b[0m 2s/step - accuracy: 0.9775 - loss: 0.1509\n",
            "Epoch 15/20\n",
            "\u001b[1m6/6\u001b[0m \u001b[32m━━━━━━━━━━━━━━━━━━━━\u001b[0m\u001b[37m\u001b[0m \u001b[1m16s\u001b[0m 2s/step - accuracy: 0.9421 - loss: 0.3497\n",
            "Epoch 16/20\n",
            "\u001b[1m6/6\u001b[0m \u001b[32m━━━━━━━━━━━━━━━━━━━━\u001b[0m\u001b[37m\u001b[0m \u001b[1m21s\u001b[0m 3s/step - accuracy: 0.8053 - loss: 0.5498\n",
            "Epoch 17/20\n",
            "\u001b[1m6/6\u001b[0m \u001b[32m━━━━━━━━━━━━━━━━━━━━\u001b[0m\u001b[37m\u001b[0m \u001b[1m21s\u001b[0m 3s/step - accuracy: 0.9174 - loss: 0.2048\n",
            "Epoch 18/20\n",
            "\u001b[1m6/6\u001b[0m \u001b[32m━━━━━━━━━━━━━━━━━━━━\u001b[0m\u001b[37m\u001b[0m \u001b[1m19s\u001b[0m 2s/step - accuracy: 0.8849 - loss: 0.3917\n",
            "Epoch 19/20\n",
            "\u001b[1m6/6\u001b[0m \u001b[32m━━━━━━━━━━━━━━━━━━━━\u001b[0m\u001b[37m\u001b[0m \u001b[1m16s\u001b[0m 3s/step - accuracy: 0.8755 - loss: 0.2124\n",
            "Epoch 20/20\n",
            "\u001b[1m6/6\u001b[0m \u001b[32m━━━━━━━━━━━━━━━━━━━━\u001b[0m\u001b[37m\u001b[0m \u001b[1m22s\u001b[0m 2s/step - accuracy: 0.8721 - loss: 0.4314\n"
          ]
        }
      ]
    },
    {
      "source": [
        "# Example: extract embeddings and do TSNE (optional)\n",
        "features = Model(inputs=model.input, outputs=base.output)\n",
        "\n",
        "# --- Start of suggested change ---\n",
        "# TODO: Replace this placeholder with actual image data loading\n",
        "# The shape of some_face_images should be (N, 112, 112, 3), where N is the number of images\n",
        "# and each image is a 112x112 RGB image.\n",
        "# For example, if you have a single image loaded as a NumPy array 'my_image_array':\n",
        "# some_face_images = np.expand_dims(my_image_array, axis=0)\n",
        "# If you have multiple images in a list:\n",
        "# some_face_images = np.array(list_of_image_arrays)\n",
        "# Make sure the pixel values are scaled according to how your model was trained (e.g., 0-1 or -1 to 1)\n",
        "# based on the ImageDataGenerator's rescale parameter.\n",
        "# For demonstration, let's create a dummy array. Replace this with your actual data loading.\n",
        "import numpy as np\n",
        "some_face_images = np.random.rand(5, 112, 112, 3).astype(np.float32) # Example: 5 dummy images\n",
        "\n",
        "# --- End of suggested change ---\n",
        "\n",
        "embeddings = features.predict(some_face_images)  # shape (N,128)\n",
        "# apply TSNE to visualize (not shown: actual plotting code)"
      ],
      "cell_type": "code",
      "metadata": {
        "colab": {
          "base_uri": "https://localhost:8080/"
        },
        "id": "ZR2011-rGC2F",
        "outputId": "60ac09aa-5236-4f22-bb34-745499fc8890"
      },
      "execution_count": null,
      "outputs": [
        {
          "output_type": "stream",
          "name": "stdout",
          "text": [
            "\u001b[1m1/1\u001b[0m \u001b[32m━━━━━━━━━━━━━━━━━━━━\u001b[0m\u001b[37m\u001b[0m \u001b[1m2s\u001b[0m 2s/step\n"
          ]
        }
      ]
    },
    {
      "cell_type": "code",
      "source": [
        "# Example: extract embeddings and do TSNE (optional)\n",
        "features = Model(inputs=model.input, outputs=base.output)\n",
        "embeddings = features.predict(some_face_images)  # shape (N,128)\n",
        "# apply TSNE to visualize (not shown: actual plotting code)\n"
      ],
      "metadata": {
        "colab": {
          "base_uri": "https://localhost:8080/"
        },
        "id": "mTxSgJs5EP9T",
        "outputId": "37c0d117-f347-42f9-8960-4a9061f24146"
      },
      "execution_count": null,
      "outputs": [
        {
          "output_type": "stream",
          "name": "stdout",
          "text": [
            "\u001b[1m1/1\u001b[0m \u001b[32m━━━━━━━━━━━━━━━━━━━━\u001b[0m\u001b[37m\u001b[0m \u001b[1m1s\u001b[0m 1s/step\n"
          ]
        }
      ]
    },
    {
      "cell_type": "code",
      "source": [
        "# Convert Keras model to TFLite\n",
        "converter = tf.lite.TFLiteConverter.from_keras_model(model)\n",
        "tflite_model = converter.convert()\n",
        "open('face_recognizer.tflite', 'wb').write(tflite_model)\n"
      ],
      "metadata": {
        "colab": {
          "base_uri": "https://localhost:8080/"
        },
        "collapsed": true,
        "id": "ka-lecjqGYGu",
        "outputId": "977773ce-7407-43a7-a4b7-3439ae309ad2"
      },
      "execution_count": null,
      "outputs": [
        {
          "output_type": "stream",
          "name": "stdout",
          "text": [
            "Saved artifact at '/tmp/tmpd0st62kd'. The following endpoints are available:\n",
            "\n",
            "* Endpoint 'serve'\n",
            "  args_0 (POSITIONAL_ONLY): TensorSpec(shape=(None, 112, 112, 3), dtype=tf.float32, name='keras_tensor')\n",
            "Output Type:\n",
            "  TensorSpec(shape=(None, 3), dtype=tf.float32, name=None)\n",
            "Captures:\n",
            "  138080552250896: TensorSpec(shape=(), dtype=tf.resource, name=None)\n",
            "  138080552251664: TensorSpec(shape=(), dtype=tf.resource, name=None)\n",
            "  138080552254352: TensorSpec(shape=(), dtype=tf.resource, name=None)\n",
            "  138080552253968: TensorSpec(shape=(), dtype=tf.resource, name=None)\n",
            "  138080552252816: TensorSpec(shape=(), dtype=tf.resource, name=None)\n",
            "  138080552254544: TensorSpec(shape=(), dtype=tf.resource, name=None)\n",
            "  138080552253584: TensorSpec(shape=(), dtype=tf.resource, name=None)\n",
            "  138080552255120: TensorSpec(shape=(), dtype=tf.resource, name=None)\n",
            "  138080552254736: TensorSpec(shape=(), dtype=tf.resource, name=None)\n",
            "  138080552252624: TensorSpec(shape=(), dtype=tf.resource, name=None)\n",
            "  138080552253776: TensorSpec(shape=(), dtype=tf.resource, name=None)\n",
            "  138080547357904: TensorSpec(shape=(), dtype=tf.resource, name=None)\n",
            "  138080547356944: TensorSpec(shape=(), dtype=tf.resource, name=None)\n",
            "  138080547357712: TensorSpec(shape=(), dtype=tf.resource, name=None)\n",
            "  138080547356752: TensorSpec(shape=(), dtype=tf.resource, name=None)\n",
            "  138080547359824: TensorSpec(shape=(), dtype=tf.resource, name=None)\n",
            "  138080547361744: TensorSpec(shape=(), dtype=tf.resource, name=None)\n",
            "  138080547360400: TensorSpec(shape=(), dtype=tf.resource, name=None)\n",
            "  138080547360784: TensorSpec(shape=(), dtype=tf.resource, name=None)\n",
            "  138080547359632: TensorSpec(shape=(), dtype=tf.resource, name=None)\n",
            "  138080547363280: TensorSpec(shape=(), dtype=tf.resource, name=None)\n",
            "  138080547362896: TensorSpec(shape=(), dtype=tf.resource, name=None)\n",
            "  138080547362512: TensorSpec(shape=(), dtype=tf.resource, name=None)\n",
            "  138080547363472: TensorSpec(shape=(), dtype=tf.resource, name=None)\n",
            "  138080547362128: TensorSpec(shape=(), dtype=tf.resource, name=None)\n",
            "  138080547365584: TensorSpec(shape=(), dtype=tf.resource, name=None)\n",
            "  138080547365968: TensorSpec(shape=(), dtype=tf.resource, name=None)\n",
            "  138080547366352: TensorSpec(shape=(), dtype=tf.resource, name=None)\n",
            "  138080547366160: TensorSpec(shape=(), dtype=tf.resource, name=None)\n",
            "  138080547360976: TensorSpec(shape=(), dtype=tf.resource, name=None)\n",
            "  138080547367504: TensorSpec(shape=(), dtype=tf.resource, name=None)\n",
            "  138080547367888: TensorSpec(shape=(), dtype=tf.resource, name=None)\n",
            "  138080547368272: TensorSpec(shape=(), dtype=tf.resource, name=None)\n",
            "  138080547368080: TensorSpec(shape=(), dtype=tf.resource, name=None)\n",
            "  138080547364432: TensorSpec(shape=(), dtype=tf.resource, name=None)\n",
            "  138080547369424: TensorSpec(shape=(), dtype=tf.resource, name=None)\n",
            "  138080547369808: TensorSpec(shape=(), dtype=tf.resource, name=None)\n",
            "  138080547370192: TensorSpec(shape=(), dtype=tf.resource, name=None)\n",
            "  138080547370000: TensorSpec(shape=(), dtype=tf.resource, name=None)\n",
            "  138080547365200: TensorSpec(shape=(), dtype=tf.resource, name=None)\n",
            "  138080547367120: TensorSpec(shape=(), dtype=tf.resource, name=None)\n",
            "  138080547371920: TensorSpec(shape=(), dtype=tf.resource, name=None)\n",
            "  138080547372688: TensorSpec(shape=(), dtype=tf.resource, name=None)\n",
            "  138080547372112: TensorSpec(shape=(), dtype=tf.resource, name=None)\n",
            "  138080547368656: TensorSpec(shape=(), dtype=tf.resource, name=None)\n",
            "  138080547371536: TensorSpec(shape=(), dtype=tf.resource, name=None)\n",
            "  138080546767888: TensorSpec(shape=(), dtype=tf.resource, name=None)\n",
            "  138080546766928: TensorSpec(shape=(), dtype=tf.resource, name=None)\n",
            "  138080547371344: TensorSpec(shape=(), dtype=tf.resource, name=None)\n",
            "  138080546768272: TensorSpec(shape=(), dtype=tf.resource, name=None)\n",
            "  138080546769424: TensorSpec(shape=(), dtype=tf.resource, name=None)\n",
            "  138080546769808: TensorSpec(shape=(), dtype=tf.resource, name=None)\n",
            "  138080546770192: TensorSpec(shape=(), dtype=tf.resource, name=None)\n",
            "  138080546770000: TensorSpec(shape=(), dtype=tf.resource, name=None)\n",
            "  138080546767312: TensorSpec(shape=(), dtype=tf.resource, name=None)\n",
            "  138080546771344: TensorSpec(shape=(), dtype=tf.resource, name=None)\n",
            "  138080546771728: TensorSpec(shape=(), dtype=tf.resource, name=None)\n",
            "  138080546772112: TensorSpec(shape=(), dtype=tf.resource, name=None)\n",
            "  138080546771920: TensorSpec(shape=(), dtype=tf.resource, name=None)\n",
            "  138080546767504: TensorSpec(shape=(), dtype=tf.resource, name=None)\n",
            "  138080546773264: TensorSpec(shape=(), dtype=tf.resource, name=None)\n",
            "  138080546773648: TensorSpec(shape=(), dtype=tf.resource, name=None)\n",
            "  138080546774032: TensorSpec(shape=(), dtype=tf.resource, name=None)\n",
            "  138080546773840: TensorSpec(shape=(), dtype=tf.resource, name=None)\n",
            "  138080546769040: TensorSpec(shape=(), dtype=tf.resource, name=None)\n",
            "  138080546775184: TensorSpec(shape=(), dtype=tf.resource, name=None)\n",
            "  138080546775568: TensorSpec(shape=(), dtype=tf.resource, name=None)\n",
            "  138080546775952: TensorSpec(shape=(), dtype=tf.resource, name=None)\n",
            "  138080546775760: TensorSpec(shape=(), dtype=tf.resource, name=None)\n",
            "  138080546770960: TensorSpec(shape=(), dtype=tf.resource, name=None)\n",
            "  138080546777104: TensorSpec(shape=(), dtype=tf.resource, name=None)\n",
            "  138080546777488: TensorSpec(shape=(), dtype=tf.resource, name=None)\n",
            "  138080546777872: TensorSpec(shape=(), dtype=tf.resource, name=None)\n",
            "  138080546777680: TensorSpec(shape=(), dtype=tf.resource, name=None)\n",
            "  138080546772880: TensorSpec(shape=(), dtype=tf.resource, name=None)\n",
            "  138080546779024: TensorSpec(shape=(), dtype=tf.resource, name=None)\n",
            "  138080546779408: TensorSpec(shape=(), dtype=tf.resource, name=None)\n",
            "  138080546779792: TensorSpec(shape=(), dtype=tf.resource, name=None)\n",
            "  138080546779600: TensorSpec(shape=(), dtype=tf.resource, name=None)\n",
            "  138080546774800: TensorSpec(shape=(), dtype=tf.resource, name=None)\n",
            "  138080546780944: TensorSpec(shape=(), dtype=tf.resource, name=None)\n",
            "  138080546781328: TensorSpec(shape=(), dtype=tf.resource, name=None)\n",
            "  138080546781712: TensorSpec(shape=(), dtype=tf.resource, name=None)\n",
            "  138080546781520: TensorSpec(shape=(), dtype=tf.resource, name=None)\n",
            "  138080546776720: TensorSpec(shape=(), dtype=tf.resource, name=None)\n",
            "  138080546782864: TensorSpec(shape=(), dtype=tf.resource, name=None)\n",
            "  138080546768080: TensorSpec(shape=(), dtype=tf.resource, name=None)\n",
            "  138080547587088: TensorSpec(shape=(), dtype=tf.resource, name=None)\n",
            "  138080546782480: TensorSpec(shape=(), dtype=tf.resource, name=None)\n",
            "  138080546780560: TensorSpec(shape=(), dtype=tf.resource, name=None)\n",
            "  138080547587664: TensorSpec(shape=(), dtype=tf.resource, name=None)\n",
            "  138080547588048: TensorSpec(shape=(), dtype=tf.resource, name=None)\n",
            "  138080547588432: TensorSpec(shape=(), dtype=tf.resource, name=None)\n",
            "  138080547588240: TensorSpec(shape=(), dtype=tf.resource, name=None)\n",
            "  138080547586896: TensorSpec(shape=(), dtype=tf.resource, name=None)\n",
            "  138080547589584: TensorSpec(shape=(), dtype=tf.resource, name=None)\n",
            "  138080547589968: TensorSpec(shape=(), dtype=tf.resource, name=None)\n",
            "  138080547590352: TensorSpec(shape=(), dtype=tf.resource, name=None)\n",
            "  138080547590160: TensorSpec(shape=(), dtype=tf.resource, name=None)\n",
            "  138080547586128: TensorSpec(shape=(), dtype=tf.resource, name=None)\n",
            "  138080547591504: TensorSpec(shape=(), dtype=tf.resource, name=None)\n",
            "  138080547591888: TensorSpec(shape=(), dtype=tf.resource, name=None)\n",
            "  138080547592272: TensorSpec(shape=(), dtype=tf.resource, name=None)\n",
            "  138080547592080: TensorSpec(shape=(), dtype=tf.resource, name=None)\n",
            "  138080547586320: TensorSpec(shape=(), dtype=tf.resource, name=None)\n",
            "  138080547593424: TensorSpec(shape=(), dtype=tf.resource, name=None)\n",
            "  138080547593808: TensorSpec(shape=(), dtype=tf.resource, name=None)\n",
            "  138080547594192: TensorSpec(shape=(), dtype=tf.resource, name=None)\n",
            "  138080547594000: TensorSpec(shape=(), dtype=tf.resource, name=None)\n",
            "  138080547589200: TensorSpec(shape=(), dtype=tf.resource, name=None)\n",
            "  138080547595344: TensorSpec(shape=(), dtype=tf.resource, name=None)\n",
            "  138080547595728: TensorSpec(shape=(), dtype=tf.resource, name=None)\n",
            "  138080547596112: TensorSpec(shape=(), dtype=tf.resource, name=None)\n",
            "  138080547595920: TensorSpec(shape=(), dtype=tf.resource, name=None)\n",
            "  138080547591120: TensorSpec(shape=(), dtype=tf.resource, name=None)\n",
            "  138080547597264: TensorSpec(shape=(), dtype=tf.resource, name=None)\n",
            "  138080547597648: TensorSpec(shape=(), dtype=tf.resource, name=None)\n",
            "  138080547598032: TensorSpec(shape=(), dtype=tf.resource, name=None)\n",
            "  138080547597840: TensorSpec(shape=(), dtype=tf.resource, name=None)\n",
            "  138080547593040: TensorSpec(shape=(), dtype=tf.resource, name=None)\n",
            "  138080547599184: TensorSpec(shape=(), dtype=tf.resource, name=None)\n",
            "  138080547599568: TensorSpec(shape=(), dtype=tf.resource, name=None)\n",
            "  138080547599952: TensorSpec(shape=(), dtype=tf.resource, name=None)\n",
            "  138080547599760: TensorSpec(shape=(), dtype=tf.resource, name=None)\n",
            "  138080547594960: TensorSpec(shape=(), dtype=tf.resource, name=None)\n",
            "  138080547601104: TensorSpec(shape=(), dtype=tf.resource, name=None)\n",
            "  138080547601488: TensorSpec(shape=(), dtype=tf.resource, name=None)\n",
            "  138080547602256: TensorSpec(shape=(), dtype=tf.resource, name=None)\n",
            "  138080547601680: TensorSpec(shape=(), dtype=tf.resource, name=None)\n",
            "  138080547596880: TensorSpec(shape=(), dtype=tf.resource, name=None)\n",
            "  138080547586512: TensorSpec(shape=(), dtype=tf.resource, name=None)\n",
            "  138080520799248: TensorSpec(shape=(), dtype=tf.resource, name=None)\n",
            "  138080520798288: TensorSpec(shape=(), dtype=tf.resource, name=None)\n",
            "  138080547600336: TensorSpec(shape=(), dtype=tf.resource, name=None)\n",
            "  138080520798480: TensorSpec(shape=(), dtype=tf.resource, name=None)\n",
            "  138080520800784: TensorSpec(shape=(), dtype=tf.resource, name=None)\n",
            "  138080520801168: TensorSpec(shape=(), dtype=tf.resource, name=None)\n",
            "  138080520801552: TensorSpec(shape=(), dtype=tf.resource, name=None)\n",
            "  138080520801360: TensorSpec(shape=(), dtype=tf.resource, name=None)\n",
            "  138080520798672: TensorSpec(shape=(), dtype=tf.resource, name=None)\n",
            "  138080520802704: TensorSpec(shape=(), dtype=tf.resource, name=None)\n",
            "  138080520803088: TensorSpec(shape=(), dtype=tf.resource, name=None)\n",
            "  138080520803472: TensorSpec(shape=(), dtype=tf.resource, name=None)\n",
            "  138080520803280: TensorSpec(shape=(), dtype=tf.resource, name=None)\n",
            "  138080520799632: TensorSpec(shape=(), dtype=tf.resource, name=None)\n",
            "  138080520804624: TensorSpec(shape=(), dtype=tf.resource, name=None)\n",
            "  138080520805008: TensorSpec(shape=(), dtype=tf.resource, name=None)\n",
            "  138080520805392: TensorSpec(shape=(), dtype=tf.resource, name=None)\n",
            "  138080520805200: TensorSpec(shape=(), dtype=tf.resource, name=None)\n",
            "  138080520800400: TensorSpec(shape=(), dtype=tf.resource, name=None)\n",
            "  138080520806544: TensorSpec(shape=(), dtype=tf.resource, name=None)\n",
            "  138080520806928: TensorSpec(shape=(), dtype=tf.resource, name=None)\n",
            "  138080520807312: TensorSpec(shape=(), dtype=tf.resource, name=None)\n",
            "  138080520807120: TensorSpec(shape=(), dtype=tf.resource, name=None)\n",
            "  138080520802320: TensorSpec(shape=(), dtype=tf.resource, name=None)\n",
            "  138080520808464: TensorSpec(shape=(), dtype=tf.resource, name=None)\n",
            "  138080520808848: TensorSpec(shape=(), dtype=tf.resource, name=None)\n",
            "  138080520809232: TensorSpec(shape=(), dtype=tf.resource, name=None)\n",
            "  138080520809040: TensorSpec(shape=(), dtype=tf.resource, name=None)\n",
            "  138080520804240: TensorSpec(shape=(), dtype=tf.resource, name=None)\n",
            "  138080520810384: TensorSpec(shape=(), dtype=tf.resource, name=None)\n",
            "  138080520810768: TensorSpec(shape=(), dtype=tf.resource, name=None)\n",
            "  138080520811152: TensorSpec(shape=(), dtype=tf.resource, name=None)\n",
            "  138080520810960: TensorSpec(shape=(), dtype=tf.resource, name=None)\n",
            "  138080520806160: TensorSpec(shape=(), dtype=tf.resource, name=None)\n",
            "  138080520812304: TensorSpec(shape=(), dtype=tf.resource, name=None)\n",
            "  138080520812688: TensorSpec(shape=(), dtype=tf.resource, name=None)\n",
            "  138080520813072: TensorSpec(shape=(), dtype=tf.resource, name=None)\n",
            "  138080520812880: TensorSpec(shape=(), dtype=tf.resource, name=None)\n",
            "  138080520808080: TensorSpec(shape=(), dtype=tf.resource, name=None)\n",
            "  138080520814224: TensorSpec(shape=(), dtype=tf.resource, name=None)\n",
            "  138080520799056: TensorSpec(shape=(), dtype=tf.resource, name=None)\n",
            "  138080521126352: TensorSpec(shape=(), dtype=tf.resource, name=None)\n",
            "  138080520813840: TensorSpec(shape=(), dtype=tf.resource, name=None)\n",
            "  138080520811920: TensorSpec(shape=(), dtype=tf.resource, name=None)\n",
            "  138080521127504: TensorSpec(shape=(), dtype=tf.resource, name=None)\n",
            "  138080521127888: TensorSpec(shape=(), dtype=tf.resource, name=None)\n",
            "  138080521128272: TensorSpec(shape=(), dtype=tf.resource, name=None)\n",
            "  138080521128080: TensorSpec(shape=(), dtype=tf.resource, name=None)\n",
            "  138080521126736: TensorSpec(shape=(), dtype=tf.resource, name=None)\n",
            "  138080521129424: TensorSpec(shape=(), dtype=tf.resource, name=None)\n",
            "  138080521129808: TensorSpec(shape=(), dtype=tf.resource, name=None)\n",
            "  138080521130192: TensorSpec(shape=(), dtype=tf.resource, name=None)\n",
            "  138080521130000: TensorSpec(shape=(), dtype=tf.resource, name=None)\n",
            "  138080521126928: TensorSpec(shape=(), dtype=tf.resource, name=None)\n",
            "  138080521131344: TensorSpec(shape=(), dtype=tf.resource, name=None)\n",
            "  138080521131728: TensorSpec(shape=(), dtype=tf.resource, name=None)\n",
            "  138080521132112: TensorSpec(shape=(), dtype=tf.resource, name=None)\n",
            "  138080521131920: TensorSpec(shape=(), dtype=tf.resource, name=None)\n",
            "  138080521126160: TensorSpec(shape=(), dtype=tf.resource, name=None)\n",
            "  138080521133264: TensorSpec(shape=(), dtype=tf.resource, name=None)\n",
            "  138080521133648: TensorSpec(shape=(), dtype=tf.resource, name=None)\n",
            "  138080521134032: TensorSpec(shape=(), dtype=tf.resource, name=None)\n",
            "  138080521133840: TensorSpec(shape=(), dtype=tf.resource, name=None)\n",
            "  138080521129040: TensorSpec(shape=(), dtype=tf.resource, name=None)\n",
            "  138080521135184: TensorSpec(shape=(), dtype=tf.resource, name=None)\n",
            "  138080521135568: TensorSpec(shape=(), dtype=tf.resource, name=None)\n",
            "  138080521135952: TensorSpec(shape=(), dtype=tf.resource, name=None)\n",
            "  138080521135760: TensorSpec(shape=(), dtype=tf.resource, name=None)\n",
            "  138080521130960: TensorSpec(shape=(), dtype=tf.resource, name=None)\n",
            "  138080521137104: TensorSpec(shape=(), dtype=tf.resource, name=None)\n",
            "  138080521137488: TensorSpec(shape=(), dtype=tf.resource, name=None)\n",
            "  138080521137872: TensorSpec(shape=(), dtype=tf.resource, name=None)\n",
            "  138080521137680: TensorSpec(shape=(), dtype=tf.resource, name=None)\n",
            "  138080521132880: TensorSpec(shape=(), dtype=tf.resource, name=None)\n",
            "  138080521139024: TensorSpec(shape=(), dtype=tf.resource, name=None)\n",
            "  138080521139408: TensorSpec(shape=(), dtype=tf.resource, name=None)\n",
            "  138080521139792: TensorSpec(shape=(), dtype=tf.resource, name=None)\n",
            "  138080521139600: TensorSpec(shape=(), dtype=tf.resource, name=None)\n",
            "  138080521134800: TensorSpec(shape=(), dtype=tf.resource, name=None)\n",
            "  138080521140944: TensorSpec(shape=(), dtype=tf.resource, name=None)\n",
            "  138080521141328: TensorSpec(shape=(), dtype=tf.resource, name=None)\n",
            "  138080521142096: TensorSpec(shape=(), dtype=tf.resource, name=None)\n",
            "  138080521141520: TensorSpec(shape=(), dtype=tf.resource, name=None)\n",
            "  138080521136720: TensorSpec(shape=(), dtype=tf.resource, name=None)\n",
            "  138080521127120: TensorSpec(shape=(), dtype=tf.resource, name=None)\n",
            "  138080519471376: TensorSpec(shape=(), dtype=tf.resource, name=None)\n",
            "  138080519472528: TensorSpec(shape=(), dtype=tf.resource, name=None)\n",
            "  138080521138640: TensorSpec(shape=(), dtype=tf.resource, name=None)\n",
            "  138080519472336: TensorSpec(shape=(), dtype=tf.resource, name=None)\n",
            "  138080519473680: TensorSpec(shape=(), dtype=tf.resource, name=None)\n",
            "  138080519474064: TensorSpec(shape=(), dtype=tf.resource, name=None)\n",
            "  138080519474448: TensorSpec(shape=(), dtype=tf.resource, name=None)\n",
            "  138080519474256: TensorSpec(shape=(), dtype=tf.resource, name=None)\n",
            "  138080519472144: TensorSpec(shape=(), dtype=tf.resource, name=None)\n",
            "  138080519475600: TensorSpec(shape=(), dtype=tf.resource, name=None)\n",
            "  138080519475984: TensorSpec(shape=(), dtype=tf.resource, name=None)\n",
            "  138080519476368: TensorSpec(shape=(), dtype=tf.resource, name=None)\n",
            "  138080519476176: TensorSpec(shape=(), dtype=tf.resource, name=None)\n",
            "  138080519471568: TensorSpec(shape=(), dtype=tf.resource, name=None)\n",
            "  138080519477520: TensorSpec(shape=(), dtype=tf.resource, name=None)\n",
            "  138080519477904: TensorSpec(shape=(), dtype=tf.resource, name=None)\n",
            "  138080519478288: TensorSpec(shape=(), dtype=tf.resource, name=None)\n",
            "  138080519478096: TensorSpec(shape=(), dtype=tf.resource, name=None)\n",
            "  138080519473296: TensorSpec(shape=(), dtype=tf.resource, name=None)\n",
            "  138080519479440: TensorSpec(shape=(), dtype=tf.resource, name=None)\n",
            "  138080519479824: TensorSpec(shape=(), dtype=tf.resource, name=None)\n",
            "  138080519480208: TensorSpec(shape=(), dtype=tf.resource, name=None)\n",
            "  138080519480016: TensorSpec(shape=(), dtype=tf.resource, name=None)\n",
            "  138080519476752: TensorSpec(shape=(), dtype=tf.resource, name=None)\n",
            "  138080519481360: TensorSpec(shape=(), dtype=tf.resource, name=None)\n",
            "  138080519481744: TensorSpec(shape=(), dtype=tf.resource, name=None)\n",
            "  138080519482128: TensorSpec(shape=(), dtype=tf.resource, name=None)\n",
            "  138080519481936: TensorSpec(shape=(), dtype=tf.resource, name=None)\n",
            "  138080519477136: TensorSpec(shape=(), dtype=tf.resource, name=None)\n",
            "  138080519483280: TensorSpec(shape=(), dtype=tf.resource, name=None)\n",
            "  138080519483664: TensorSpec(shape=(), dtype=tf.resource, name=None)\n",
            "  138080519484048: TensorSpec(shape=(), dtype=tf.resource, name=None)\n",
            "  138080519483856: TensorSpec(shape=(), dtype=tf.resource, name=None)\n",
            "  138080519479056: TensorSpec(shape=(), dtype=tf.resource, name=None)\n",
            "  138080519485200: TensorSpec(shape=(), dtype=tf.resource, name=None)\n",
            "  138080519485584: TensorSpec(shape=(), dtype=tf.resource, name=None)\n",
            "  138080519485968: TensorSpec(shape=(), dtype=tf.resource, name=None)\n",
            "  138080519485776: TensorSpec(shape=(), dtype=tf.resource, name=None)\n",
            "  138080519480976: TensorSpec(shape=(), dtype=tf.resource, name=None)\n",
            "  138080519487120: TensorSpec(shape=(), dtype=tf.resource, name=None)\n",
            "  138080519471760: TensorSpec(shape=(), dtype=tf.resource, name=None)\n",
            "  138080519832016: TensorSpec(shape=(), dtype=tf.resource, name=None)\n",
            "  138080519486736: TensorSpec(shape=(), dtype=tf.resource, name=None)\n",
            "  138080519484816: TensorSpec(shape=(), dtype=tf.resource, name=None)\n",
            "  138080519833552: TensorSpec(shape=(), dtype=tf.resource, name=None)\n",
            "  138080519834896: TensorSpec(shape=(), dtype=tf.resource, name=None)\n"
          ]
        },
        {
          "output_type": "execute_result",
          "data": {
            "text/plain": [
              "8873996"
            ]
          },
          "metadata": {},
          "execution_count": 8
        }
      ]
    },
    {
      "source": [
        "import numpy as np\n",
        "import tensorflow as tf\n",
        "import cv2 # Import OpenCV\n",
        "\n",
        "# Define the preprocess_input function\n",
        "def preprocess_input(image_path, target_size=(112, 112)):\n",
        "    \"\"\"\n",
        "    Loads, resizes, and normalizes an image for TFLite inference.\n",
        "\n",
        "    Args:\n",
        "        image_path (str): Path to the image file.\n",
        "        target_size (tuple): The target size (height, width) for resizing.\n",
        "\n",
        "    Returns:\n",
        "        np.ndarray: Preprocessed image as a NumPy array.\n",
        "    \"\"\"\n",
        "    # Read the image using OpenCV\n",
        "    image = cv2.imread(image_path)\n",
        "\n",
        "    # Check if the image was loaded successfully\n",
        "    if image is None:\n",
        "        raise FileNotFoundError(f\"Image not found at path: {image_path}\")\n",
        "\n",
        "    # Resize the image to the target size\n",
        "    image = cv2.resize(image, (target_size[1], target_size[0])) # cv2.resize expects (width, height)\n",
        "\n",
        "    # Convert BGR to RGB (OpenCV reads images in BGR format)\n",
        "    image = cv2.cvtColor(image, cv2.COLOR_BGR2RGB)\n",
        "\n",
        "    # Normalize pixel values to [0, 1] as done by ImageDataGenerator(rescale=1./255)\n",
        "    image = image.astype(np.float32) / 255.0\n",
        "\n",
        "    return image\n",
        "\n",
        "\n",
        "# Load TFLite model\n",
        "interpreter = tf.lite.Interpreter(model_path='/content/face_recognizer.tflite')\n",
        "interpreter.allocate_tensors()\n",
        "\n",
        "# Prepare input (single face image preprocessed as training)\n",
        "input_details = interpreter.get_input_details()\n",
        "output_details = interpreter.get_output_details()\n",
        "\n",
        "# Use the defined preprocess_input function\n",
        "image = preprocess_input('/content/drive/MyDrive/Colab Notebooks/dataset/1000005407.jpg')\n",
        "\n",
        "interpreter.set_tensor(input_details[0]['index'], np.expand_dims(image,0))\n",
        "interpreter.invoke()\n",
        "scores = interpreter.get_tensor(output_details[0]['index'])[0]  # shape (3,)\n",
        "predicted_idx = np.argmax(scores)\n",
        "confidence = scores[predicted_idx]"
      ],
      "cell_type": "code",
      "metadata": {
        "id": "CUdDqoDqHO1-",
        "colab": {
          "base_uri": "https://localhost:8080/"
        },
        "outputId": "afa96008-4586-4473-edf4-817c57ba04fe"
      },
      "execution_count": null,
      "outputs": [
        {
          "output_type": "stream",
          "name": "stderr",
          "text": [
            "/usr/local/lib/python3.11/dist-packages/tensorflow/lite/python/interpreter.py:457: UserWarning:     Warning: tf.lite.Interpreter is deprecated and is scheduled for deletion in\n",
            "    TF 2.20. Please use the LiteRT interpreter from the ai_edge_litert package.\n",
            "    See the [migration guide](https://ai.google.dev/edge/litert/migration)\n",
            "    for details.\n",
            "    \n",
            "  warnings.warn(_INTERPRETER_DELETION_WARNING)\n"
          ]
        }
      ]
    }
  ]
}